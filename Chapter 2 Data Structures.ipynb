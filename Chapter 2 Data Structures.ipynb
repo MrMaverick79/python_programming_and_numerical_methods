{
 "cells": [
  {
   "cell_type": "markdown",
   "id": "70fbb3db",
   "metadata": {},
   "source": [
    "## Chapter 2: Data Structures"
   ]
  },
  {
   "cell_type": "code",
   "execution_count": 1,
   "id": "ad5f5e6b",
   "metadata": {},
   "outputs": [],
   "source": [
    "x = 1"
   ]
  },
  {
   "cell_type": "code",
   "execution_count": 2,
   "id": "30f0aae2",
   "metadata": {},
   "outputs": [],
   "source": [
    "y = 2"
   ]
  },
  {
   "cell_type": "code",
   "execution_count": 3,
   "id": "61314b0f",
   "metadata": {},
   "outputs": [
    {
     "name": "stdout",
     "output_type": "stream",
     "text": [
      "Variable   Type    Data/Info\n",
      "----------------------------\n",
      "x          int     1\n",
      "y          int     2\n"
     ]
    }
   ],
   "source": [
    "#%whos lists all variables\n",
    "%whos"
   ]
  },
  {
   "cell_type": "markdown",
   "id": "8e3c3244",
   "metadata": {},
   "source": [
    "### Strings"
   ]
  },
  {
   "cell_type": "code",
   "execution_count": 4,
   "id": "88186d93",
   "metadata": {},
   "outputs": [
    {
     "name": "stdout",
     "output_type": "stream",
     "text": [
      "Hello World\n"
     ]
    }
   ],
   "source": [
    "#String\n",
    "w = \"Hello World\"\n",
    "print(w)"
   ]
  },
  {
   "cell_type": "code",
   "execution_count": 5,
   "id": "0cd044b6",
   "metadata": {},
   "outputs": [
    {
     "data": {
      "text/plain": [
       "str"
      ]
     },
     "execution_count": 5,
     "metadata": {},
     "output_type": "execute_result"
    }
   ],
   "source": [
    "type(w) #type of "
   ]
  },
  {
   "cell_type": "code",
   "execution_count": 6,
   "id": "7a948ac3",
   "metadata": {},
   "outputs": [
    {
     "data": {
      "text/plain": [
       "11"
      ]
     },
     "execution_count": 6,
     "metadata": {},
     "output_type": "execute_result"
    }
   ],
   "source": [
    "len(w) #length"
   ]
  },
  {
   "cell_type": "code",
   "execution_count": 7,
   "id": "d0d9c463",
   "metadata": {},
   "outputs": [
    {
     "data": {
      "text/plain": [
       "'W'"
      ]
     },
     "execution_count": 7,
     "metadata": {},
     "output_type": "execute_result"
    }
   ],
   "source": [
    "w[6] #index 6"
   ]
  },
  {
   "cell_type": "code",
   "execution_count": 8,
   "id": "05feb8e3",
   "metadata": {},
   "outputs": [
    {
     "data": {
      "text/plain": [
       "'World'"
      ]
     },
     "execution_count": 8,
     "metadata": {},
     "output_type": "execute_result"
    }
   ],
   "source": [
    "w[6:11] #slice position 6-11"
   ]
  },
  {
   "cell_type": "code",
   "execution_count": 9,
   "id": "fcdb2574",
   "metadata": {},
   "outputs": [
    {
     "data": {
      "text/plain": [
       "'World'"
      ]
     },
     "execution_count": 9,
     "metadata": {},
     "output_type": "execute_result"
    }
   ],
   "source": [
    "w[6:] #slice to end"
   ]
  },
  {
   "cell_type": "code",
   "execution_count": 10,
   "id": "8e949853",
   "metadata": {},
   "outputs": [
    {
     "data": {
      "text/plain": [
       "'HloWrd'"
      ]
     },
     "execution_count": 10,
     "metadata": {},
     "output_type": "execute_result"
    }
   ],
   "source": [
    "w[::2] #every second character"
   ]
  },
  {
   "cell_type": "code",
   "execution_count": 11,
   "id": "6f6148e7",
   "metadata": {},
   "outputs": [
    {
     "data": {
      "text/plain": [
       "'HELLO WORLD'"
      ]
     },
     "execution_count": 11,
     "metadata": {},
     "output_type": "execute_result"
    }
   ],
   "source": [
    "w.upper()"
   ]
  },
  {
   "cell_type": "code",
   "execution_count": 13,
   "id": "9fddc374",
   "metadata": {},
   "outputs": [
    {
     "data": {
      "text/plain": [
       "3"
      ]
     },
     "execution_count": 13,
     "metadata": {},
     "output_type": "execute_result"
    }
   ],
   "source": [
    "w.count('l') #count instances of l"
   ]
  },
  {
   "cell_type": "code",
   "execution_count": 15,
   "id": "dcaaab2a",
   "metadata": {},
   "outputs": [
    {
     "data": {
      "text/plain": [
       "'Hello There'"
      ]
     },
     "execution_count": 15,
     "metadata": {},
     "output_type": "execute_result"
    }
   ],
   "source": [
    "w.replace('World', 'There')"
   ]
  },
  {
   "cell_type": "code",
   "execution_count": 17,
   "id": "592956a5",
   "metadata": {},
   "outputs": [
    {
     "name": "stdout",
     "output_type": "stream",
     "text": [
      "Mr Maverick lives in a country called Australia.\n"
     ]
    }
   ],
   "source": [
    "#variables in strings\n",
    "name = 'Mr Maverick'\n",
    "country = 'Australia'\n",
    "print(\"%s lives in a country called %s.\"%(name, country) )"
   ]
  },
  {
   "cell_type": "code",
   "execution_count": 18,
   "id": "10748443",
   "metadata": {},
   "outputs": [
    {
     "name": "stdout",
     "output_type": "stream",
     "text": [
      "Mr Maverick lives in a country called Australia.\n"
     ]
    }
   ],
   "source": [
    "#or, using f strings\n",
    "print(f\"{name} lives in a country called {country}.\" )"
   ]
  },
  {
   "cell_type": "markdown",
   "id": "b7fccb9c",
   "metadata": {},
   "source": [
    "### Lists"
   ]
  },
  {
   "cell_type": "code",
   "execution_count": 20,
   "id": "cfb11598",
   "metadata": {},
   "outputs": [],
   "source": [
    "list_1 = [1,2,3]\n",
    "list_2 = [\"Hello\", \"World\"]\n",
    "list_3 = [\"Apple\", 4,5, \"Orange\"] #all valid\n",
    "list_4 = [list_1, list_2]"
   ]
  },
  {
   "cell_type": "code",
   "execution_count": 21,
   "id": "03b979b6",
   "metadata": {},
   "outputs": [
    {
     "data": {
      "text/plain": [
       "[[1, 2, 3], ['Hello', 'World']]"
      ]
     },
     "execution_count": 21,
     "metadata": {},
     "output_type": "execute_result"
    }
   ],
   "source": [
    "list_4"
   ]
  },
  {
   "cell_type": "code",
   "execution_count": 23,
   "id": "9a20a0fe",
   "metadata": {},
   "outputs": [
    {
     "data": {
      "text/plain": [
       "[1, 2, 3, 'Hello', 'World']"
      ]
     },
     "execution_count": 23,
     "metadata": {},
     "output_type": "execute_result"
    }
   ],
   "source": [
    "list_1 + list_2 #concat"
   ]
  },
  {
   "cell_type": "code",
   "execution_count": 26,
   "id": "69e7c5ac",
   "metadata": {},
   "outputs": [
    {
     "data": {
      "text/plain": [
       "[1, 2, 3, 4, 4, 5]"
      ]
     },
     "execution_count": 26,
     "metadata": {},
     "output_type": "execute_result"
    }
   ],
   "source": [
    "#append\n",
    "list_1.append(5)\n",
    "list_1"
   ]
  },
  {
   "cell_type": "code",
   "execution_count": 27,
   "id": "5d37355f",
   "metadata": {},
   "outputs": [],
   "source": [
    "#insert\n",
    "list_1.insert(2, 'centre') #insert 'centre' at index 2"
   ]
  },
  {
   "cell_type": "code",
   "execution_count": 28,
   "id": "61fbbc16",
   "metadata": {},
   "outputs": [
    {
     "data": {
      "text/plain": [
       "[1, 2, 'centre', 3, 4, 4, 5]"
      ]
     },
     "execution_count": 28,
     "metadata": {},
     "output_type": "execute_result"
    }
   ],
   "source": [
    "list_1"
   ]
  },
  {
   "cell_type": "code",
   "execution_count": 29,
   "id": "bbd2e666",
   "metadata": {},
   "outputs": [],
   "source": [
    "# remove\n",
    "list_1.remove(2) #first occurence"
   ]
  },
  {
   "cell_type": "code",
   "execution_count": 30,
   "id": "15aa83ba",
   "metadata": {},
   "outputs": [
    {
     "data": {
      "text/plain": [
       "[1, 'centre', 3, 4, 4, 5]"
      ]
     },
     "execution_count": 30,
     "metadata": {},
     "output_type": "execute_result"
    }
   ],
   "source": [
    "list_1"
   ]
  },
  {
   "cell_type": "code",
   "execution_count": 32,
   "id": "5da97851",
   "metadata": {},
   "outputs": [
    {
     "data": {
      "text/plain": [
       "[1, 'centre', 3, 4, 5]"
      ]
     },
     "execution_count": 32,
     "metadata": {},
     "output_type": "execute_result"
    }
   ],
   "source": [
    "del list_1[4] #delete at index\n",
    "list_1"
   ]
  },
  {
   "cell_type": "code",
   "execution_count": 33,
   "id": "ca146061",
   "metadata": {},
   "outputs": [
    {
     "data": {
      "text/plain": [
       "[5]"
      ]
     },
     "execution_count": 33,
     "metadata": {},
     "output_type": "execute_result"
    }
   ],
   "source": [
    "list_5 = [] #instance an empty list\n",
    "list_5.append(5)\n",
    "list_5"
   ]
  },
  {
   "cell_type": "code",
   "execution_count": 34,
   "id": "5888d120",
   "metadata": {},
   "outputs": [],
   "source": [
    "list_5.append(6)"
   ]
  },
  {
   "cell_type": "code",
   "execution_count": 35,
   "id": "311b7bce",
   "metadata": {},
   "outputs": [
    {
     "data": {
      "text/plain": [
       "True"
      ]
     },
     "execution_count": 35,
     "metadata": {},
     "output_type": "execute_result"
    }
   ],
   "source": [
    "5 in list_5"
   ]
  },
  {
   "cell_type": "code",
   "execution_count": 36,
   "id": "195225b6",
   "metadata": {},
   "outputs": [
    {
     "data": {
      "text/plain": [
       "['H', 'e', 'l', 'l', 'o', ' ', 'w', 'o', 'r', 'l', 'd']"
      ]
     },
     "execution_count": 36,
     "metadata": {},
     "output_type": "execute_result"
    }
   ],
   "source": [
    "list(\"Hello world\") #turn into list"
   ]
  },
  {
   "cell_type": "markdown",
   "id": "100f3ad6",
   "metadata": {},
   "source": [
    "### Tuples"
   ]
  },
  {
   "cell_type": "code",
   "execution_count": 37,
   "id": "f4dc0533",
   "metadata": {},
   "outputs": [
    {
     "data": {
      "text/plain": [
       "(1, 2, 3, 2)"
      ]
     },
     "execution_count": 37,
     "metadata": {},
     "output_type": "execute_result"
    }
   ],
   "source": [
    "tuple_1 = (1,2,3,2)\n",
    "tuple_1"
   ]
  },
  {
   "cell_type": "code",
   "execution_count": 38,
   "id": "901cd5b7",
   "metadata": {},
   "outputs": [
    {
     "data": {
      "text/plain": [
       "4"
      ]
     },
     "execution_count": 38,
     "metadata": {},
     "output_type": "execute_result"
    }
   ],
   "source": [
    "len(tuple_1)"
   ]
  },
  {
   "cell_type": "code",
   "execution_count": 39,
   "id": "c30a6447",
   "metadata": {},
   "outputs": [
    {
     "data": {
      "text/plain": [
       "(2, 3, 2)"
      ]
     },
     "execution_count": 39,
     "metadata": {},
     "output_type": "execute_result"
    }
   ],
   "source": [
    "tuple_1[1:4]"
   ]
  },
  {
   "cell_type": "code",
   "execution_count": 40,
   "id": "ea8a39e9",
   "metadata": {},
   "outputs": [
    {
     "data": {
      "text/plain": [
       "2"
      ]
     },
     "execution_count": 40,
     "metadata": {},
     "output_type": "execute_result"
    }
   ],
   "source": [
    "tuple_1.count(2)"
   ]
  },
  {
   "cell_type": "markdown",
   "id": "b20964b0",
   "metadata": {},
   "source": [
    "**Tuples vs Lists**\n",
    "\n",
    "Though tuples may seem similar to lists, they are often used in different situations and for different purposes. Tuples are **immutable**, and usually contain a heterogeneous sequence of elements that are accessed via unpacking or indexing (or even by attribute in the case of named tuples). Lists are **mutable**, and their elements are usually homogeneous and are accessed by iterating over the list.\n",
    "\n",
    "**Homogenous vs Heterogenous**\n",
    "\n",
    "\n",
    "a fruit list - homogenous\n",
    "\n",
    "['apple', 'banana', 'orange', 'pear']\n",
    "\n",
    " a list of (fruit, number) pairs(tuples) - heterogenous \n",
    " \n",
    "[('apple', 3), ('banana', 4) , ('orange', 1), ('pear', 4)]"
   ]
  },
  {
   "cell_type": "code",
   "execution_count": 42,
   "id": "6c6c609a",
   "metadata": {},
   "outputs": [
    {
     "data": {
      "text/plain": [
       "[1, 'centre', 3, 4, 5]"
      ]
     },
     "execution_count": 42,
     "metadata": {},
     "output_type": "execute_result"
    }
   ],
   "source": [
    "list_1\n"
   ]
  },
  {
   "cell_type": "code",
   "execution_count": 43,
   "id": "9fc2ee36",
   "metadata": {},
   "outputs": [],
   "source": [
    "a,b,c,d,e = list_1"
   ]
  },
  {
   "cell_type": "code",
   "execution_count": 44,
   "id": "79365d7e",
   "metadata": {},
   "outputs": [
    {
     "data": {
      "text/plain": [
       "1"
      ]
     },
     "execution_count": 44,
     "metadata": {},
     "output_type": "execute_result"
    }
   ],
   "source": [
    "a"
   ]
  },
  {
   "cell_type": "markdown",
   "id": "0f1d2a03",
   "metadata": {},
   "source": [
    "### Sets\n",
    "\n",
    "Sets are unordered with no duplicates.\n",
    "It also supports operations like union, intersection, difference, and sym,etric difference.\n"
   ]
  },
  {
   "cell_type": "code",
   "execution_count": 45,
   "id": "a1101ae9",
   "metadata": {},
   "outputs": [
    {
     "data": {
      "text/plain": [
       "{1, 2, 3, 4, 5, 6}"
      ]
     },
     "execution_count": 45,
     "metadata": {},
     "output_type": "execute_result"
    }
   ],
   "source": [
    "set_1 = set([1,2,2,2,3,4,5,6,])\n",
    "set_1"
   ]
  },
  {
   "cell_type": "code",
   "execution_count": 46,
   "id": "d0541784",
   "metadata": {},
   "outputs": [],
   "source": [
    "set_2 = set(\"Banana\")"
   ]
  },
  {
   "cell_type": "code",
   "execution_count": 47,
   "id": "2e6e409d",
   "metadata": {},
   "outputs": [
    {
     "data": {
      "text/plain": [
       "{'B', 'a', 'n'}"
      ]
     },
     "execution_count": 47,
     "metadata": {},
     "output_type": "execute_result"
    }
   ],
   "source": [
    "set_2"
   ]
  },
  {
   "cell_type": "code",
   "execution_count": 48,
   "id": "638d1255",
   "metadata": {},
   "outputs": [],
   "source": [
    "set_3= set([2,3,4,8,9])\n"
   ]
  },
  {
   "cell_type": "code",
   "execution_count": 49,
   "id": "5c199b61",
   "metadata": {},
   "outputs": [
    {
     "data": {
      "text/plain": [
       "{1, 2, 3, 4, 5, 6, 8, 9}"
      ]
     },
     "execution_count": 49,
     "metadata": {},
     "output_type": "execute_result"
    }
   ],
   "source": [
    "#union\n",
    "set_1.union(set_3)"
   ]
  },
  {
   "cell_type": "code",
   "execution_count": 52,
   "id": "2676fa09",
   "metadata": {},
   "outputs": [
    {
     "data": {
      "text/plain": [
       "{2, 3, 4}"
      ]
     },
     "execution_count": 52,
     "metadata": {},
     "output_type": "execute_result"
    }
   ],
   "source": [
    "#intersection\n",
    "set_1.intersection(set_3)"
   ]
  },
  {
   "cell_type": "code",
   "execution_count": 54,
   "id": "a7dc1a31",
   "metadata": {},
   "outputs": [
    {
     "data": {
      "text/plain": [
       "False"
      ]
     },
     "execution_count": 54,
     "metadata": {},
     "output_type": "execute_result"
    }
   ],
   "source": [
    "#subset?\n",
    "set_1.issubset({1,2})"
   ]
  },
  {
   "cell_type": "code",
   "execution_count": null,
   "id": "1651c09b",
   "metadata": {},
   "outputs": [],
   "source": []
  }
 ],
 "metadata": {
  "kernelspec": {
   "display_name": "Python 3 (ipykernel)",
   "language": "python",
   "name": "python3"
  },
  "language_info": {
   "codemirror_mode": {
    "name": "ipython",
    "version": 3
   },
   "file_extension": ".py",
   "mimetype": "text/x-python",
   "name": "python",
   "nbconvert_exporter": "python",
   "pygments_lexer": "ipython3",
   "version": "3.10.8"
  }
 },
 "nbformat": 4,
 "nbformat_minor": 5
}
