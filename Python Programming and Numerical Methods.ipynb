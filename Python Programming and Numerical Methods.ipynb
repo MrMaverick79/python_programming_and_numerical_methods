{
 "cells": [
  {
   "cell_type": "markdown",
   "id": "78d7c57b",
   "metadata": {},
   "source": [
    "# Python Programming and Numerical Methods"
   ]
  },
  {
   "cell_type": "markdown",
   "id": "20e1bdb6",
   "metadata": {},
   "source": [
    "## Chapter 1: Python Basics"
   ]
  },
  {
   "cell_type": "code",
   "execution_count": 1,
   "id": "f44d9efb",
   "metadata": {},
   "outputs": [
    {
     "data": {
      "text/plain": [
       "2"
      ]
     },
     "execution_count": 1,
     "metadata": {},
     "output_type": "execute_result"
    }
   ],
   "source": [
    "1+1"
   ]
  },
  {
   "cell_type": "raw",
   "id": "3f38848f",
   "metadata": {},
   "source": [
    "Order of operations - Python executes the order of operations using PEDMAS (parenthesis, exponents, multiplication, division, addition, subtraction). Notice that the result here is the value of the last operation executed."
   ]
  },
  {
   "cell_type": "code",
   "execution_count": 2,
   "id": "546e7b17",
   "metadata": {},
   "outputs": [
    {
     "data": {
      "text/plain": [
       "2.0"
      ]
     },
     "execution_count": 2,
     "metadata": {},
     "output_type": "execute_result"
    }
   ],
   "source": [
    "(3*4)/(2**2+4/2)"
   ]
  },
  {
   "cell_type": "markdown",
   "id": "b1cfe556",
   "metadata": {},
   "source": [
    "You can also use _ symbol to break up complex calculations:"
   ]
  },
  {
   "cell_type": "code",
   "execution_count": 3,
   "id": "d438e28b",
   "metadata": {},
   "outputs": [
    {
     "data": {
      "text/plain": [
       "0.75"
      ]
     },
     "execution_count": 3,
     "metadata": {},
     "output_type": "execute_result"
    }
   ],
   "source": [
    "3/4"
   ]
  },
  {
   "cell_type": "code",
   "execution_count": 4,
   "id": "2180c486",
   "metadata": {},
   "outputs": [
    {
     "data": {
      "text/plain": [
       "1.5"
      ]
     },
     "execution_count": 4,
     "metadata": {},
     "output_type": "execute_result"
    }
   ],
   "source": [
    "_*2"
   ]
  },
  {
   "cell_type": "code",
   "execution_count": 5,
   "id": "35cc307a",
   "metadata": {},
   "outputs": [
    {
     "data": {
      "text/plain": [
       "3.375"
      ]
     },
     "execution_count": 5,
     "metadata": {},
     "output_type": "execute_result"
    }
   ],
   "source": [
    "_**3"
   ]
  },
  {
   "cell_type": "code",
   "execution_count": 6,
   "id": "29e3e38f",
   "metadata": {},
   "outputs": [],
   "source": [
    "import math"
   ]
  },
  {
   "cell_type": "code",
   "execution_count": 7,
   "id": "a4c6c2bd",
   "metadata": {},
   "outputs": [
    {
     "data": {
      "text/plain": [
       "2.0"
      ]
     },
     "execution_count": 7,
     "metadata": {},
     "output_type": "execute_result"
    }
   ],
   "source": [
    "math.sqrt(4)"
   ]
  },
  {
   "cell_type": "code",
   "execution_count": 8,
   "id": "f44e7c5d",
   "metadata": {},
   "outputs": [
    {
     "data": {
      "text/plain": [
       "1.0"
      ]
     },
     "execution_count": 8,
     "metadata": {},
     "output_type": "execute_result"
    }
   ],
   "source": [
    "math.sin(math.pi/2)"
   ]
  },
  {
   "cell_type": "code",
   "execution_count": 10,
   "id": "af7508d4",
   "metadata": {},
   "outputs": [
    {
     "data": {
      "text/plain": [
       "10.000000000000002"
      ]
     },
     "execution_count": 10,
     "metadata": {},
     "output_type": "execute_result"
    }
   ],
   "source": [
    "math.exp(math.log(10))"
   ]
  },
  {
   "cell_type": "markdown",
   "id": "651ddc9c",
   "metadata": {},
   "source": [
    "A note on *log<sub>e</sub>* vs *log<sub>10</sub>*. Python's `log` function uses *log<sub>e</sub>* , also known as the **natural logarithm**.\n",
    "\n",
    "### Logarithms \n",
    "\n",
    "A **logarithm** is the power to which a number must be raised in order to get some other number. A general form is:\n",
    "\n",
    "   log<sub>a</sub>(y) = x\n",
    " \n",
    " which is equal to \n",
    " \n",
    "   a<sup>x</sup>=y\n",
    "   \n",
    " ### Log vs Ln\n",
    " \n",
    " Log refers to the common logarithm, log base 10. That is, what number must we raise 10 to get y? I t is expressed as 10<sup>x</sup>=y\n",
    " \n",
    " Ln refers to the natural logarithm, log base e. That is, what number should we raise Euler's constant to get y? It is expressed as e<sup>x</sup>=y. \n",
    " \n",
    " ### In python\n",
    " \n",
    " To access the common logarith, use `math.log10`. Otherwise, you are using Ln.\n",
    " \n",
    " \n",
    " "
   ]
  },
  {
   "cell_type": "code",
   "execution_count": 11,
   "id": "2e5c29fe",
   "metadata": {},
   "outputs": [
    {
     "data": {
      "text/plain": [
       "2.117000016612675"
      ]
     },
     "execution_count": 11,
     "metadata": {},
     "output_type": "execute_result"
    }
   ],
   "source": [
    "math.exp(3/4)"
   ]
  },
  {
   "cell_type": "markdown",
   "id": "cd88cb9e",
   "metadata": {},
   "source": [
    "You can use a ? with a function to get more information. Running the line below will bring up some help in the terminal."
   ]
  },
  {
   "cell_type": "code",
   "execution_count": 12,
   "id": "42c94cf0",
   "metadata": {},
   "outputs": [],
   "source": [
    "math.factorial?"
   ]
  },
  {
   "cell_type": "markdown",
   "id": "8d222420",
   "metadata": {},
   "source": [
    "Python will give you a `ZeroDivisionError` when if you try to divide by 0. You can, however, use `math.inf` and `math.nan` if you want to use something that is not a number as a number:"
   ]
  },
  {
   "cell_type": "code",
   "execution_count": 13,
   "id": "5cf6608f",
   "metadata": {},
   "outputs": [
    {
     "data": {
      "text/plain": [
       "0.0"
      ]
     },
     "execution_count": 13,
     "metadata": {},
     "output_type": "execute_result"
    }
   ],
   "source": [
    "1/math.inf"
   ]
  },
  {
   "cell_type": "code",
   "execution_count": 15,
   "id": "4d42601c",
   "metadata": {},
   "outputs": [
    {
     "data": {
      "text/plain": [
       "inf"
      ]
     },
     "execution_count": 15,
     "metadata": {},
     "output_type": "execute_result"
    }
   ],
   "source": [
    "math.inf*2"
   ]
  },
  {
   "cell_type": "code",
   "execution_count": 16,
   "id": "5ff00999",
   "metadata": {},
   "outputs": [
    {
     "data": {
      "text/plain": [
       "nan"
      ]
     },
     "execution_count": 16,
     "metadata": {},
     "output_type": "execute_result"
    }
   ],
   "source": [
    "math.inf/math.inf"
   ]
  },
  {
   "cell_type": "code",
   "execution_count": 17,
   "id": "378f48d7",
   "metadata": {},
   "outputs": [
    {
     "data": {
      "text/plain": [
       "(2+5j)"
      ]
     },
     "execution_count": 17,
     "metadata": {},
     "output_type": "execute_result"
    }
   ],
   "source": [
    "2+5j"
   ]
  },
  {
   "cell_type": "markdown",
   "id": "29d3f7bd",
   "metadata": {},
   "source": [
    "### complex\n",
    "\n",
    "Python's `complex`returns a complex number (real+imaginary).\n",
    "\n",
    "### Scientific notation\n",
    "\n",
    "Python can use scientific notation byu using *e* between tow numbers, os that 1*e*6 = 1000000 . The4 second example below calculates the number of seconds in 3 years using scientific notation."
   ]
  },
  {
   "cell_type": "code",
   "execution_count": 18,
   "id": "141fa696",
   "metadata": {},
   "outputs": [
    {
     "data": {
      "text/plain": [
       "(2+5j)"
      ]
     },
     "execution_count": 18,
     "metadata": {},
     "output_type": "execute_result"
    }
   ],
   "source": [
    "complex(2,5)"
   ]
  },
  {
   "cell_type": "code",
   "execution_count": 19,
   "id": "ad979307",
   "metadata": {},
   "outputs": [
    {
     "data": {
      "text/plain": [
       "94608000.0"
      ]
     },
     "execution_count": 19,
     "metadata": {},
     "output_type": "execute_result"
    }
   ],
   "source": [
    "3e0*3.65e2*2.4e1*3.6e3"
   ]
  },
  {
   "cell_type": "markdown",
   "id": "c12bf8a2",
   "metadata": {},
   "source": [
    "## Chapter 1 Problems"
   ]
  },
  {
   "cell_type": "code",
   "execution_count": 20,
   "id": "f81e28e6",
   "metadata": {},
   "outputs": [
    {
     "name": "stdout",
     "output_type": "stream",
     "text": [
      "I love Python\n"
     ]
    }
   ],
   "source": [
    "print('I love Python')"
   ]
  },
  {
   "cell_type": "code",
   "execution_count": 21,
   "id": "4a5806ef",
   "metadata": {},
   "outputs": [],
   "source": [
    "import antigravity #takes you to an xkcd comic"
   ]
  },
  {
   "cell_type": "markdown",
   "id": "245433c4",
   "metadata": {},
   "source": [
    "Compute the area of a triangle with base 10 and height 12. Recall that the area of a triangle is half the base times the height."
   ]
  },
  {
   "cell_type": "code",
   "execution_count": 22,
   "id": "53c8ce75",
   "metadata": {},
   "outputs": [
    {
     "data": {
      "text/plain": [
       "60.0"
      ]
     },
     "execution_count": 22,
     "metadata": {},
     "output_type": "execute_result"
    }
   ],
   "source": [
    "(10 * 12) /2"
   ]
  },
  {
   "cell_type": "markdown",
   "id": "2c2cb895",
   "metadata": {},
   "source": [
    "Compute the surface area and volume of a cylinder with radius 5 and height 3."
   ]
  },
  {
   "cell_type": "code",
   "execution_count": 28,
   "id": "66b97717",
   "metadata": {},
   "outputs": [
    {
     "data": {
      "text/plain": [
       "251.327"
      ]
     },
     "execution_count": 28,
     "metadata": {},
     "output_type": "execute_result"
    }
   ],
   "source": [
    "#Surface area:\n",
    "# Area = (2 * pi * r * h) + 2 * pi * r**2\n",
    "r = 5\n",
    "h = 3\n",
    "round((2*math.pi*r*h) + (2*math.pi *r**2),3)\n",
    "\n",
    "\n"
   ]
  },
  {
   "cell_type": "code",
   "execution_count": 27,
   "id": "80989b8f",
   "metadata": {},
   "outputs": [
    {
     "data": {
      "text/plain": [
       "235.619"
      ]
     },
     "execution_count": 27,
     "metadata": {},
     "output_type": "execute_result"
    }
   ],
   "source": [
    "#Volume\n",
    "# Volume = pi * r**2 * h\n",
    "round((math.pi * r**2 * 3),3 )"
   ]
  },
  {
   "cell_type": "code",
   "execution_count": 29,
   "id": "0f565fc2",
   "metadata": {},
   "outputs": [
    {
     "data": {
      "text/plain": [
       "2.5"
      ]
     },
     "execution_count": 29,
     "metadata": {},
     "output_type": "execute_result"
    }
   ],
   "source": [
    "# Compute the slope between the points (3,4) and (5,9).\n",
    "(4-9) / (3-5)"
   ]
  },
  {
   "cell_type": "code",
   "execution_count": 30,
   "id": "9b1b244e",
   "metadata": {},
   "outputs": [
    {
     "data": {
      "text/plain": [
       "5.385164807134504"
      ]
     },
     "execution_count": 30,
     "metadata": {},
     "output_type": "execute_result"
    }
   ],
   "source": [
    "# Compute the distance between the points (3,4) and (5,9). \n",
    "math.sqrt((5-3)**2 + (9-4)**2)"
   ]
  },
  {
   "cell_type": "code",
   "execution_count": 31,
   "id": "75b60cc2",
   "metadata": {},
   "outputs": [
    {
     "data": {
      "text/plain": [
       "720"
      ]
     },
     "execution_count": 31,
     "metadata": {},
     "output_type": "execute_result"
    }
   ],
   "source": [
    "#Use Python’s factorial function to compute 6!\n",
    "math.factorial(6)"
   ]
  },
  {
   "cell_type": "code",
   "execution_count": 39,
   "id": "e893d047",
   "metadata": {},
   "outputs": [],
   "source": [
    "#Compute the number of leap years between the years 1500 and 2010.\n",
    "def compute_leap_years():\n",
    "    leap_years = 0;\n",
    "    for i in range(1500, 2011):\n",
    "        if not i%100 and not i%400:\n",
    "            leap_years += 1\n",
    "            continue\n",
    "        elif not i%100 :\n",
    "            continue\n",
    "        elif not i%4:\n",
    "            leap_years += 1\n",
    "        else:\n",
    "            continue\n",
    "    return leap_years\n",
    "        "
   ]
  },
  {
   "cell_type": "code",
   "execution_count": 40,
   "id": "cef7b29e",
   "metadata": {},
   "outputs": [
    {
     "data": {
      "text/plain": [
       "124"
      ]
     },
     "execution_count": 40,
     "metadata": {},
     "output_type": "execute_result"
    }
   ],
   "source": [
    "compute_leap_years()"
   ]
  },
  {
   "cell_type": "code",
   "execution_count": null,
   "id": "b8ce654a",
   "metadata": {},
   "outputs": [],
   "source": []
  }
 ],
 "metadata": {
  "kernelspec": {
   "display_name": "Python 3 (ipykernel)",
   "language": "python",
   "name": "python3"
  },
  "language_info": {
   "codemirror_mode": {
    "name": "ipython",
    "version": 3
   },
   "file_extension": ".py",
   "mimetype": "text/x-python",
   "name": "python",
   "nbconvert_exporter": "python",
   "pygments_lexer": "ipython3",
   "version": "3.10.8"
  }
 },
 "nbformat": 4,
 "nbformat_minor": 5
}
