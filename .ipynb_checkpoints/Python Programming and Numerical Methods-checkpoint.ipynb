{
 "cells": [
  {
   "cell_type": "markdown",
   "id": "0db3411b",
   "metadata": {},
   "source": [
    "# Python Programming and Numerical Methods"
   ]
  },
  {
   "cell_type": "markdown",
   "id": "51b01c6d",
   "metadata": {},
   "source": [
    "## Chapter 1: Python Basics"
   ]
  },
  {
   "cell_type": "code",
   "execution_count": 1,
   "id": "14c703bf",
   "metadata": {},
   "outputs": [
    {
     "data": {
      "text/plain": [
       "2"
      ]
     },
     "execution_count": 1,
     "metadata": {},
     "output_type": "execute_result"
    }
   ],
   "source": [
    "1+1"
   ]
  },
  {
   "cell_type": "raw",
   "id": "94b377b3",
   "metadata": {},
   "source": [
    "Order of operations - Python executes the order of operations using PEDMAS (parenthesis, exponents, multiplication, division, addition, subtraction). Notice that the result here is the value of the last operation executed."
   ]
  },
  {
   "cell_type": "code",
   "execution_count": 2,
   "id": "647fe382",
   "metadata": {},
   "outputs": [
    {
     "data": {
      "text/plain": [
       "2.0"
      ]
     },
     "execution_count": 2,
     "metadata": {},
     "output_type": "execute_result"
    }
   ],
   "source": [
    "(3*4)/(2**2+4/2)"
   ]
  },
  {
   "cell_type": "markdown",
   "id": "963c0e43",
   "metadata": {},
   "source": [
    "You can also use _ symbol to break up complex calculations:"
   ]
  },
  {
   "cell_type": "code",
   "execution_count": 3,
   "id": "e9dcb6a1",
   "metadata": {},
   "outputs": [
    {
     "data": {
      "text/plain": [
       "0.75"
      ]
     },
     "execution_count": 3,
     "metadata": {},
     "output_type": "execute_result"
    }
   ],
   "source": [
    "3/4"
   ]
  },
  {
   "cell_type": "code",
   "execution_count": 4,
   "id": "919c82e3",
   "metadata": {},
   "outputs": [
    {
     "data": {
      "text/plain": [
       "1.5"
      ]
     },
     "execution_count": 4,
     "metadata": {},
     "output_type": "execute_result"
    }
   ],
   "source": [
    "_*2"
   ]
  },
  {
   "cell_type": "code",
   "execution_count": 5,
   "id": "c94b990c",
   "metadata": {},
   "outputs": [
    {
     "data": {
      "text/plain": [
       "3.375"
      ]
     },
     "execution_count": 5,
     "metadata": {},
     "output_type": "execute_result"
    }
   ],
   "source": [
    "_**3"
   ]
  },
  {
   "cell_type": "code",
   "execution_count": 6,
   "id": "0ed49b24",
   "metadata": {},
   "outputs": [],
   "source": [
    "import math"
   ]
  },
  {
   "cell_type": "code",
   "execution_count": 7,
   "id": "f742df3e",
   "metadata": {},
   "outputs": [
    {
     "data": {
      "text/plain": [
       "2.0"
      ]
     },
     "execution_count": 7,
     "metadata": {},
     "output_type": "execute_result"
    }
   ],
   "source": [
    "math.sqrt(4)"
   ]
  },
  {
   "cell_type": "code",
   "execution_count": 8,
   "id": "076ab7d9",
   "metadata": {},
   "outputs": [
    {
     "data": {
      "text/plain": [
       "1.0"
      ]
     },
     "execution_count": 8,
     "metadata": {},
     "output_type": "execute_result"
    }
   ],
   "source": [
    "math.sin(math.pi/2)"
   ]
  },
  {
   "cell_type": "code",
   "execution_count": 10,
   "id": "f27a3415",
   "metadata": {},
   "outputs": [
    {
     "data": {
      "text/plain": [
       "10.000000000000002"
      ]
     },
     "execution_count": 10,
     "metadata": {},
     "output_type": "execute_result"
    }
   ],
   "source": [
    "math.exp(math.log(10))"
   ]
  },
  {
   "cell_type": "markdown",
   "id": "8161c406",
   "metadata": {},
   "source": [
    "A note on *log<sub>e</sub>* vs *log<sub>10</sub>*. Python's `log` function uses *log<sub>e</sub>* , also known as the **natural logarithm**.\n",
    "\n",
    "### Logarithms \n",
    "\n",
    "A **logarithm** is the power to which a number must be raised in order to get some other number. A general form is:\n",
    "\n",
    "   log<sub>a</sub>(y) = x\n",
    " \n",
    " which is equal to \n",
    " \n",
    "   a<sup>x</sup>=y\n",
    "   \n",
    " ### Log vs Ln\n",
    " \n",
    " Log refers to the common logarithm, log base 10. That is, what number must we raise 10 to get y? I t is expressed as 10<sup>x</sup>=y\n",
    " \n",
    " Ln refers to the natural logarithm, log base e. That is, what number should we raise Euler's constant to get y? It is expressed as e<sup>x</sup>=y. \n",
    " \n",
    " ## In python\n",
    " \n",
    " To access the common logarith, use `math.log10`. Otherwise, you are using Ln.\n",
    " \n",
    " \n",
    " "
   ]
  },
  {
   "cell_type": "code",
   "execution_count": 11,
   "id": "ff5b3f78",
   "metadata": {},
   "outputs": [
    {
     "data": {
      "text/plain": [
       "2.117000016612675"
      ]
     },
     "execution_count": 11,
     "metadata": {},
     "output_type": "execute_result"
    }
   ],
   "source": [
    "math.exp(3/4)"
   ]
  },
  {
   "cell_type": "markdown",
   "id": "94eb4399",
   "metadata": {},
   "source": [
    "You can use a ? with a function to get more information. Running the line below will bring up some help in the terminal."
   ]
  },
  {
   "cell_type": "code",
   "execution_count": 12,
   "id": "f9fc9d24",
   "metadata": {},
   "outputs": [],
   "source": [
    "math.factorial?"
   ]
  },
  {
   "cell_type": "markdown",
   "id": "62f8e118",
   "metadata": {},
   "source": [
    "Python will give you a `ZeroDivisionError` when if you try to divide by 0. You can, however, use `math.inf` and `math.nan` if you want to use something that is not a number as a number:"
   ]
  },
  {
   "cell_type": "code",
   "execution_count": null,
   "id": "7d37589d",
   "metadata": {},
   "outputs": [],
   "source": []
  },
  {
   "cell_type": "code",
   "execution_count": null,
   "id": "b12add39",
   "metadata": {},
   "outputs": [],
   "source": []
  }
 ],
 "metadata": {
  "kernelspec": {
   "display_name": "Python 3 (ipykernel)",
   "language": "python",
   "name": "python3"
  },
  "language_info": {
   "codemirror_mode": {
    "name": "ipython",
    "version": 3
   },
   "file_extension": ".py",
   "mimetype": "text/x-python",
   "name": "python",
   "nbconvert_exporter": "python",
   "pygments_lexer": "ipython3",
   "version": "3.10.8"
  }
 },
 "nbformat": 4,
 "nbformat_minor": 5
}
